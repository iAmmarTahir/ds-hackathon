{
 "cells": [
  {
   "cell_type": "code",
   "execution_count": 1,
   "id": "eb506ad3",
   "metadata": {},
   "outputs": [],
   "source": [
    "import requests"
   ]
  },
  {
   "cell_type": "code",
   "execution_count": 11,
   "id": "0f2448fd",
   "metadata": {},
   "outputs": [],
   "source": [
    "import subprocess\n",
    "import json\n",
    "\n",
    "# Define the command template\n",
    "command_template = \"curl 'https://api.weatherapi.com/v1/future.json?q=98105&dt={date}&key=dd3aac570921400ca9f214055241105'\"\n",
    "\n",
    "# Define the dates of March\n",
    "dates = [f'2025-03-{str(day).zfill(2)}' for day in range(1, 32)]\n",
    "\n",
    "# List to store the JSON responses\n",
    "response_list = []\n",
    "\n",
    "# Execute the curl command for each date\n",
    "for date in dates:\n",
    "    # Format the command with the current date\n",
    "    command = command_template.format(date=date)\n",
    "    \n",
    "    # Run the command and retrieve the output\n",
    "    result = subprocess.run(command, shell=True, capture_output=True, text=True)\n",
    "    output = result.stdout\n",
    "    \n",
    "    # Parse the JSON response\n",
    "    response = json.loads(output)\n",
    "    \n",
    "    # Append the response to the list\n",
    "    response_list.append(response)\n",
    "\n",
    "# Write the combined responses to a JSON file\n",
    "with open('combined_responses.json', 'w') as file:\n",
    "    json.dump(response_list, file)"
   ]
  },
  {
   "cell_type": "code",
   "execution_count": 15,
   "id": "60c57878",
   "metadata": {},
   "outputs": [],
   "source": [
    "# Define the command template\n",
    "command_template = \"curl 'https://api.weatherapi.com/v1/future.json?q=46.863800291454936,-121.76381227224893&dt={date}&key=dd3aac570921400ca9f214055241105'\"\n",
    "\n",
    "# Define the dates of March\n",
    "dates = [f'2025-03-{str(day).zfill(2)}' for day in range(1, 32)]\n",
    "\n",
    "# List to store the JSON responses\n",
    "response_list = []\n",
    "\n",
    "# Execute the curl command for each date\n",
    "for date in dates:\n",
    "    # Format the command with the current date\n",
    "    command = command_template.format(date=date)\n",
    "    \n",
    "    # Run the command and retrieve the output\n",
    "    result = subprocess.run(command, shell=True, capture_output=True, text=True)\n",
    "    output = result.stdout\n",
    "    \n",
    "    # Parse the JSON response\n",
    "    response = json.loads(output)\n",
    "    \n",
    "    # Append the response to the list\n",
    "    response_list.append(response)\n",
    "\n",
    "# Write the combined responses to a JSON file\n",
    "with open('combined_responses_rainier.json', 'w') as file:\n",
    "    json.dump(response_list, file)"
   ]
  },
  {
   "cell_type": "code",
   "execution_count": null,
   "id": "2f65751b",
   "metadata": {},
   "outputs": [],
   "source": []
  }
 ],
 "metadata": {
  "kernelspec": {
   "display_name": "Python 3 (ipykernel)",
   "language": "python",
   "name": "python3"
  },
  "language_info": {
   "codemirror_mode": {
    "name": "ipython",
    "version": 3
   },
   "file_extension": ".py",
   "mimetype": "text/x-python",
   "name": "python",
   "nbconvert_exporter": "python",
   "pygments_lexer": "ipython3",
   "version": "3.9.6"
  }
 },
 "nbformat": 4,
 "nbformat_minor": 5
}
